{
 "cells": [
  {
   "cell_type": "markdown",
   "metadata": {},
   "source": [
    "# Task 01 - Práctica"
   ]
  },
  {
   "cell_type": "markdown",
   "metadata": {},
   "source": [
    "### Librerías"
   ]
  },
  {
   "cell_type": "code",
   "execution_count": 30,
   "metadata": {},
   "outputs": [],
   "source": [
    "import gymnasium as gym\n",
    "import torch\n",
    "import torch.nn as nn\n",
    "import torch.optim as optim\n",
    "import numpy as np\n",
    "import random\n",
    "from collections import deque\n",
    "import matplotlib.pyplot as plt\n"
   ]
  },
  {
   "cell_type": "markdown",
   "metadata": {},
   "source": [
    "### Creación del entorno"
   ]
  },
  {
   "cell_type": "code",
   "execution_count": 31,
   "metadata": {},
   "outputs": [
    {
     "name": "stdout",
     "output_type": "stream",
     "text": [
      "State size: 4, Action size: 2\n"
     ]
    }
   ],
   "source": [
    "env = gym.make('CartPole-v1')\n",
    "state_size = env.observation_space.shape[0]\n",
    "action_size = env.action_space.n\n",
    "print(f\"State size: {state_size}, Action size: {action_size}\")\n"
   ]
  },
  {
   "cell_type": "markdown",
   "metadata": {},
   "source": [
    "### Creación de las redes"
   ]
  },
  {
   "cell_type": "code",
   "execution_count": 32,
   "metadata": {},
   "outputs": [],
   "source": [
    "class DQNetwork(nn.Module):\n",
    "    def __init__(self, state_size, action_size):\n",
    "        super(DQNetwork, self).__init__()\n",
    "        self.fc1 = nn.Linear(state_size, 24)\n",
    "        self.fc2 = nn.Linear(24, 24)\n",
    "        self.fc3 = nn.Linear(24, action_size)\n",
    "        \n",
    "        \n",
    "    def forward(self, state):\n",
    "        x = torch.relu(self.fc1(state))\n",
    "        x = torch.relu(self.fc2(x))\n",
    "        return self.fc3(x)"
   ]
  },
  {
   "cell_type": "markdown",
   "metadata": {},
   "source": [
    "### Hiperparámetros e Instancia de las redes"
   ]
  },
  {
   "cell_type": "code",
   "execution_count": 33,
   "metadata": {},
   "outputs": [],
   "source": [
    "# hiperparámetros\n",
    "epsilon = 1.0  # exploración inicial\n",
    "epsilon_decay = 0.995  # tasa de reducción de epsilon\n",
    "epsilon_min = 0.01\n",
    "gamma = 0.95  # factor de descuento\n",
    "learning_rate = 0.001\n",
    "batch_size = 64\n",
    "memory_size = 1000000\n",
    "target_update_freq = 10\n",
    "episodes = 500\n",
    "\n",
    "# Inicializar redes y optimizador\n",
    "policy_net = DQNetwork(state_size, action_size) # red de linea\n",
    "target_net = DQNetwork(state_size, action_size) # red de destino\n",
    "target_net.load_state_dict(policy_net.state_dict())  # Inicializamos con los mismos pesos\n",
    "optimizer = optim.Adam(policy_net.parameters(), lr=learning_rate)\n",
    "\n",
    "# Memoria de experiencia\n",
    "memory = deque(maxlen=memory_size)"
   ]
  },
  {
   "cell_type": "markdown",
   "metadata": {},
   "source": [
    "### Épsilon-greedy"
   ]
  },
  {
   "cell_type": "code",
   "execution_count": 34,
   "metadata": {},
   "outputs": [],
   "source": [
    "def epsilon_greedy_action(state, epsilon):\n",
    "    if random.random() <= epsilon:\n",
    "        return random.choice(range(action_size))\n",
    "    else:\n",
    "        with torch.no_grad():\n",
    "            state = torch.tensor(state, dtype=torch.float32).unsqueeze(0)\n",
    "            q_values = policy_net(state)\n",
    "        return torch.argmax(q_values).item()\n"
   ]
  },
  {
   "cell_type": "markdown",
   "metadata": {},
   "source": [
    "### Reproducción de la experiencia"
   ]
  },
  {
   "cell_type": "code",
   "execution_count": 35,
   "metadata": {},
   "outputs": [],
   "source": [
    "def replay_experience(batch_size):\n",
    "    if len(memory) < batch_size:\n",
    "        return\n",
    "    batch = random.sample(memory, batch_size)\n",
    "    \n",
    "    states, actions, rewards, next_states, dones = zip(*batch)\n",
    "    \n",
    "    states = torch.tensor(np.array(states), dtype=torch.float32)\n",
    "    actions = torch.tensor(actions, dtype=torch.int64).unsqueeze(1)\n",
    "    rewards = torch.tensor(rewards, dtype=torch.float32)\n",
    "    next_states = torch.tensor(np.array(next_states), dtype=torch.float32)\n",
    "    dones = torch.tensor(dones, dtype=torch.float32)\n",
    "\n",
    "    # Calculamos Q-valores actuales y el objetivo\n",
    "    current_q_values = policy_net(states).gather(1, actions)\n",
    "    with torch.no_grad():\n",
    "        next_q_values = target_net(next_states).max(1)[0]\n",
    "        target_q_values = rewards + gamma * next_q_values * (1 - dones)\n",
    "    \n",
    "    loss = nn.functional.mse_loss(current_q_values.squeeze(), target_q_values)\n",
    "    \n",
    "    optimizer.zero_grad()\n",
    "    loss.backward()\n",
    "    optimizer.step()\n"
   ]
  },
  {
   "cell_type": "markdown",
   "metadata": {},
   "source": [
    "### Ciclo de entrenamiento"
   ]
  },
  {
   "cell_type": "code",
   "execution_count": 36,
   "metadata": {},
   "outputs": [
    {
     "name": "stdout",
     "output_type": "stream",
     "text": [
      "Episode 0, Reward: 18.0, Epsilon: 0.9950\n",
      "Episode 10, Reward: 34.0, Epsilon: 0.9464\n",
      "Episode 20, Reward: 40.0, Epsilon: 0.9001\n",
      "Episode 30, Reward: 42.0, Epsilon: 0.8561\n",
      "Episode 40, Reward: 31.0, Epsilon: 0.8142\n",
      "Episode 50, Reward: 15.0, Epsilon: 0.7744\n",
      "Episode 60, Reward: 11.0, Epsilon: 0.7366\n",
      "Episode 70, Reward: 37.0, Epsilon: 0.7005\n",
      "Episode 80, Reward: 108.0, Epsilon: 0.6663\n",
      "Episode 90, Reward: 45.0, Epsilon: 0.6337\n",
      "Episode 100, Reward: 62.0, Epsilon: 0.6027\n",
      "Episode 110, Reward: 35.0, Epsilon: 0.5733\n",
      "Episode 120, Reward: 9.0, Epsilon: 0.5452\n",
      "Episode 130, Reward: 147.0, Epsilon: 0.5186\n",
      "Episode 140, Reward: 203.0, Epsilon: 0.4932\n",
      "Episode 150, Reward: 23.0, Epsilon: 0.4691\n",
      "Episode 160, Reward: 201.0, Epsilon: 0.4462\n",
      "Episode 170, Reward: 188.0, Epsilon: 0.4244\n",
      "Episode 180, Reward: 202.0, Epsilon: 0.4036\n",
      "Episode 190, Reward: 14.0, Epsilon: 0.3839\n",
      "Episode 200, Reward: 68.0, Epsilon: 0.3651\n",
      "Episode 210, Reward: 60.0, Epsilon: 0.3473\n",
      "Episode 220, Reward: 217.0, Epsilon: 0.3303\n",
      "Episode 230, Reward: 234.0, Epsilon: 0.3141\n",
      "Episode 240, Reward: 147.0, Epsilon: 0.2988\n",
      "Episode 250, Reward: 146.0, Epsilon: 0.2842\n",
      "Episode 260, Reward: 11.0, Epsilon: 0.2703\n",
      "Episode 270, Reward: 20.0, Epsilon: 0.2571\n",
      "Episode 280, Reward: 79.0, Epsilon: 0.2445\n",
      "Episode 290, Reward: 77.0, Epsilon: 0.2326\n",
      "Episode 300, Reward: 22.0, Epsilon: 0.2212\n",
      "Episode 310, Reward: 134.0, Epsilon: 0.2104\n",
      "Episode 320, Reward: 110.0, Epsilon: 0.2001\n",
      "Episode 330, Reward: 15.0, Epsilon: 0.1903\n",
      "Episode 340, Reward: 73.0, Epsilon: 0.1810\n",
      "Episode 350, Reward: 92.0, Epsilon: 0.1721\n",
      "Episode 360, Reward: 9.0, Epsilon: 0.1637\n",
      "Episode 370, Reward: 333.0, Epsilon: 0.1557\n",
      "Episode 380, Reward: 227.0, Epsilon: 0.1481\n",
      "Episode 390, Reward: 122.0, Epsilon: 0.1409\n",
      "Episode 400, Reward: 105.0, Epsilon: 0.1340\n",
      "Episode 410, Reward: 130.0, Epsilon: 0.1274\n",
      "Episode 420, Reward: 125.0, Epsilon: 0.1212\n",
      "Episode 430, Reward: 97.0, Epsilon: 0.1153\n",
      "Episode 440, Reward: 117.0, Epsilon: 0.1096\n",
      "Episode 450, Reward: 139.0, Epsilon: 0.1043\n",
      "Episode 460, Reward: 108.0, Epsilon: 0.0992\n",
      "Episode 470, Reward: 84.0, Epsilon: 0.0943\n",
      "Episode 480, Reward: 84.0, Epsilon: 0.0897\n",
      "Episode 490, Reward: 113.0, Epsilon: 0.0853\n"
     ]
    }
   ],
   "source": [
    "rewards_list = []\n",
    "\n",
    "for e in range(episodes):\n",
    "    state, _ = env.reset()\n",
    "    total_reward = 0\n",
    "    done = False\n",
    "    \n",
    "    while not done:\n",
    "        action = epsilon_greedy_action(state, epsilon)\n",
    "        next_state, reward, done, _, _ = env.step(action)\n",
    "        \n",
    "        memory.append((state, action, reward, next_state, done))\n",
    "        state = next_state\n",
    "        total_reward += reward\n",
    "        \n",
    "        replay_experience(batch_size)\n",
    "    \n",
    "    rewards_list.append(total_reward)\n",
    "    \n",
    "    # Actualización de red objetivo\n",
    "    if e % target_update_freq == 0:\n",
    "        target_net.load_state_dict(policy_net.state_dict())\n",
    "    \n",
    "    if epsilon > epsilon_min:\n",
    "        epsilon *= epsilon_decay\n",
    "    \n",
    "    # Imprimir progreso\n",
    "    if e % 10 == 0:\n",
    "        print(f\"Episode {e}, Reward: {total_reward}, Epsilon: {epsilon:.4f}\")\n",
    "\n",
    "# Guardar las recompensas obtenidas\n",
    "np.save('rewards.npy', rewards_list)\n"
   ]
  },
  {
   "cell_type": "markdown",
   "metadata": {},
   "source": [
    "### Visualización del progreso del agente"
   ]
  },
  {
   "cell_type": "code",
   "execution_count": 37,
   "metadata": {},
   "outputs": [
    {
     "data": {
      "image/png": "[encoded data removed]",
      "text/plain": [
       "<Figure size 640x480 with 1 Axes>"
      ]
     },
     "metadata": {},
     "output_type": "display_data"
    }
   ],
   "source": [
    "plt.plot(rewards_list)\n",
    "plt.xlabel('Episode')\n",
    "plt.ylabel('Total Reward')\n",
    "plt.title('Training Progress')\n",
    "plt.show()"
   ]
  },
  {
   "cell_type": "markdown",
   "metadata": {},
   "source": [
    "### Evaluación del rendimiento del agente"
   ]
  },
  {
   "cell_type": "code",
   "execution_count": 38,
   "metadata": {},
   "outputs": [],
   "source": [
    "# Initialize the environment with render_mode\n",
    "env = gym.make(\"CartPole-v1\", render_mode=\"human\")\n",
    "\n",
    "state, _ = env.reset()\n",
    "done = False\n",
    "total_reward = 0\n",
    "while not done:\n",
    "    action = epsilon_greedy_action(state, epsilon_min)  # Usamos una política greedy\n",
    "    next_state, reward, done, _, _ = env.step(action)\n",
    "    env.render()\n",
    "    state = next_state\n",
    "    total_reward += reward\n",
    "env.close()\n",
    "print(f\"Total Reward: {total_reward}\")"
   ]
  },
  {
   "cell_type": "markdown",
   "metadata": {},
   "source": [
    "### Fine tunning"
   ]
  },
  {
   "cell_type": "code",
   "execution_count": 39,
   "metadata": {},
   "outputs": [
    {
     "name": "stdout",
     "output_type": "stream",
     "text": [
      "Evaluando con: LR=0.001, Gamma=0.95, Epsilon Decay=0.995, Update Freq=5, Batch Size=32\n",
      "Avg Reward: 137.24\n",
      "Evaluando con: LR=0.001, Gamma=0.95, Epsilon Decay=0.995, Update Freq=5, Batch Size=64\n",
      "Avg Reward: 132.1\n",
      "Evaluando con: LR=0.001, Gamma=0.95, Epsilon Decay=0.995, Update Freq=10, Batch Size=32\n",
      "Avg Reward: 145.06\n",
      "Evaluando con: LR=0.001, Gamma=0.95, Epsilon Decay=0.995, Update Freq=10, Batch Size=64\n",
      "Avg Reward: 178.3\n",
      "Evaluando con: LR=0.001, Gamma=0.95, Epsilon Decay=0.99, Update Freq=5, Batch Size=32\n",
      "Avg Reward: 211.38\n",
      "Evaluando con: LR=0.001, Gamma=0.95, Epsilon Decay=0.99, Update Freq=5, Batch Size=64\n",
      "Avg Reward: 569.1\n",
      "Evaluando con: LR=0.001, Gamma=0.95, Epsilon Decay=0.99, Update Freq=10, Batch Size=32\n",
      "Avg Reward: 159.62\n",
      "Evaluando con: LR=0.001, Gamma=0.95, Epsilon Decay=0.99, Update Freq=10, Batch Size=64\n",
      "Avg Reward: 262.18\n",
      "Evaluando con: LR=0.001, Gamma=0.99, Epsilon Decay=0.995, Update Freq=5, Batch Size=32\n",
      "Avg Reward: 97.38\n",
      "Evaluando con: LR=0.001, Gamma=0.99, Epsilon Decay=0.995, Update Freq=5, Batch Size=64\n",
      "Avg Reward: 170.96\n",
      "Evaluando con: LR=0.001, Gamma=0.99, Epsilon Decay=0.995, Update Freq=10, Batch Size=32\n",
      "Avg Reward: 125.84\n",
      "Evaluando con: LR=0.001, Gamma=0.99, Epsilon Decay=0.995, Update Freq=10, Batch Size=64\n",
      "Avg Reward: 199.62\n",
      "Evaluando con: LR=0.001, Gamma=0.99, Epsilon Decay=0.99, Update Freq=5, Batch Size=32\n",
      "Avg Reward: 168.1\n",
      "Evaluando con: LR=0.001, Gamma=0.99, Epsilon Decay=0.99, Update Freq=5, Batch Size=64\n",
      "Avg Reward: 318.54\n",
      "Evaluando con: LR=0.001, Gamma=0.99, Epsilon Decay=0.99, Update Freq=10, Batch Size=32\n",
      "Avg Reward: 190.12\n",
      "Evaluando con: LR=0.001, Gamma=0.99, Epsilon Decay=0.99, Update Freq=10, Batch Size=64\n",
      "Avg Reward: 120.98\n",
      "Evaluando con: LR=0.0005, Gamma=0.95, Epsilon Decay=0.995, Update Freq=5, Batch Size=32\n",
      "Avg Reward: 153.88\n",
      "Evaluando con: LR=0.0005, Gamma=0.95, Epsilon Decay=0.995, Update Freq=5, Batch Size=64\n",
      "Avg Reward: 169.6\n",
      "Evaluando con: LR=0.0005, Gamma=0.95, Epsilon Decay=0.995, Update Freq=10, Batch Size=32\n",
      "Avg Reward: 198.62\n",
      "Evaluando con: LR=0.0005, Gamma=0.95, Epsilon Decay=0.995, Update Freq=10, Batch Size=64\n",
      "Avg Reward: 110.0\n",
      "Evaluando con: LR=0.0005, Gamma=0.95, Epsilon Decay=0.99, Update Freq=5, Batch Size=32\n",
      "Avg Reward: 130.26\n",
      "Evaluando con: LR=0.0005, Gamma=0.95, Epsilon Decay=0.99, Update Freq=5, Batch Size=64\n",
      "Avg Reward: 226.44\n",
      "Evaluando con: LR=0.0005, Gamma=0.95, Epsilon Decay=0.99, Update Freq=10, Batch Size=32\n",
      "Avg Reward: 196.14\n",
      "Evaluando con: LR=0.0005, Gamma=0.95, Epsilon Decay=0.99, Update Freq=10, Batch Size=64\n",
      "Avg Reward: 181.14\n",
      "Evaluando con: LR=0.0005, Gamma=0.99, Epsilon Decay=0.995, Update Freq=5, Batch Size=32\n",
      "Avg Reward: 363.26\n",
      "Evaluando con: LR=0.0005, Gamma=0.99, Epsilon Decay=0.995, Update Freq=5, Batch Size=64\n",
      "Avg Reward: 197.3\n",
      "Evaluando con: LR=0.0005, Gamma=0.99, Epsilon Decay=0.995, Update Freq=10, Batch Size=32\n",
      "Avg Reward: 279.36\n",
      "Evaluando con: LR=0.0005, Gamma=0.99, Epsilon Decay=0.995, Update Freq=10, Batch Size=64\n",
      "Avg Reward: 120.94\n",
      "Evaluando con: LR=0.0005, Gamma=0.99, Epsilon Decay=0.99, Update Freq=5, Batch Size=32\n",
      "Avg Reward: 242.58\n",
      "Evaluando con: LR=0.0005, Gamma=0.99, Epsilon Decay=0.99, Update Freq=5, Batch Size=64\n",
      "Avg Reward: 139.1\n",
      "Evaluando con: LR=0.0005, Gamma=0.99, Epsilon Decay=0.99, Update Freq=10, Batch Size=32\n",
      "Avg Reward: 150.34\n",
      "Evaluando con: LR=0.0005, Gamma=0.99, Epsilon Decay=0.99, Update Freq=10, Batch Size=64\n",
      "Avg Reward: 132.66\n",
      "Mejor configuración encontrada: {'learning_rate': 0.001, 'gamma': 0.95, 'epsilon_decay': 0.99, 'target_update_freq': 5, 'batch_size': 64, 'average_reward': 569.1}\n"
     ]
    }
   ],
   "source": [
    "env.close()\n",
    "\n",
    "# Parámetros iniciales para ajustar\n",
    "learning_rates = [0.001, 0.0005]\n",
    "gammas = [0.95, 0.99]\n",
    "epsilons = [1.0]\n",
    "epsilon_decays = [0.995, 0.99]\n",
    "target_update_frequencies = [5, 10]\n",
    "batch_sizes = [32, 64]\n",
    "\n",
    "# Guardar las mejores configuraciones\n",
    "best_config = None\n",
    "best_avg_reward = -float('inf')\n",
    "\n",
    "# Bucle para experimentar con diferentes combinaciones de hiperparámetros\n",
    "for lr in learning_rates:\n",
    "    for gamma in gammas:\n",
    "        for eps_decay in epsilon_decays:\n",
    "            for target_update_freq in target_update_frequencies:\n",
    "                for batch_size in batch_sizes:\n",
    "                    print(f\"Evaluando con: LR={lr}, Gamma={gamma}, Epsilon Decay={eps_decay}, Update Freq={target_update_freq}, Batch Size={batch_size}\")\n",
    "                    \n",
    "                    # Reiniciar el entorno y las redes\n",
    "                    policy_net = DQNetwork(state_size, action_size)\n",
    "                    target_net = DQNetwork(state_size, action_size)\n",
    "                    target_net.load_state_dict(policy_net.state_dict())\n",
    "                    optimizer = optim.Adam(policy_net.parameters(), lr=lr)\n",
    "                    memory = deque(maxlen=memory_size)\n",
    "                    epsilon = 1.0\n",
    "                    rewards_list = []\n",
    "                    \n",
    "                    # Entrenar el agente\n",
    "                    for e in range(episodes):\n",
    "                        state, _ = env.reset()  # Reinicia el entorno\n",
    "                        total_reward = 0\n",
    "                        done = False\n",
    "                        while not done:\n",
    "                            action = epsilon_greedy_action(state, epsilon)\n",
    "                            next_state, reward, done, _, _ = env.step(action)\n",
    "                            memory.append((state, action, reward, next_state, done))\n",
    "                            state = next_state\n",
    "                            total_reward += reward\n",
    "                            replay_experience(batch_size)\n",
    "                        \n",
    "                        rewards_list.append(total_reward)\n",
    "                        if e % target_update_freq == 0:\n",
    "                            target_net.load_state_dict(policy_net.state_dict())\n",
    "                        if epsilon > epsilon_min:\n",
    "                            epsilon *= eps_decay\n",
    "\n",
    "                    # Cerrar el entorno después del episodio\n",
    "                    env.close()\n",
    "                    \n",
    "                    # Calcular el promedio de recompensas de los últimos 50 episodios\n",
    "                    avg_reward = np.mean(rewards_list[-50:])\n",
    "                    print(f\"Avg Reward: {avg_reward}\")\n",
    "                    \n",
    "                    # Guardar la mejor configuración\n",
    "                    if avg_reward > best_avg_reward:\n",
    "                        best_avg_reward = avg_reward\n",
    "                        best_config = {\n",
    "                            'learning_rate': lr,\n",
    "                            'gamma': gamma,\n",
    "                            'epsilon_decay': eps_decay,\n",
    "                            'target_update_freq': target_update_freq,\n",
    "                            'batch_size': batch_size,\n",
    "                            'average_reward': avg_reward\n",
    "                        }\n",
    "\n",
    "print(f\"Mejor configuración encontrada: {best_config}\")\n"
   ]
  },
  {
   "cell_type": "markdown",
   "metadata": {},
   "source": [
    "# Task 2"
   ]
  },
  {
   "cell_type": "markdown",
   "metadata": {},
   "source": [
    "Defina en qué consiste y en qué clase de problemas se pueden usar cada uno de los siguientes acercamientos en Deep Reinforcement Learning"
   ]
  },
  {
   "cell_type": "markdown",
   "metadata": {},
   "source": [
    "**1. Proximal Policy Optimization (PPO)** <br>\n",
    "\n",
    "PPO es un algoritmo de Deep Reinforcement Learning perteneciente a la familia de métodos basados en políticas .Es una mejor de los métodos de gradiente de política y se usa para aprender una política que maximiza las recompensa esperada a largo plazo. Funciona de la siguiente manera: PPO busca actualizar la política sin realizar cambios abruptos, buscando no desestabilizar el aprendizaje. \n",
    "\n",
    "Características:\n",
    "- Usa la razón de probabilidad entre la política nueva y la antigua para limitar el cambio en la política, con una restricción de confianza. \n",
    "- Maximiza una función objetivo que combina el gradiente de políticai y la penalización de grandes cambios. \n",
    "\n",
    "Problemas en los que se puede usar:\n",
    "- Problemas de control continuo o discreto. \n",
    "- Tareas de navegación autónoma.\n",
    "- Juegos de Atari.\n",
    "- Entornos donde hay alta dimensionalidad en los estados y acciones.\n",
    "- Entornos donde hay alta incertidumbre. "
   ]
  },
  {
   "cell_type": "markdown",
   "metadata": {},
   "source": [
    "**2. Deep Deterministic Policy Gradient (DDPG)** \n",
    "\n",
    "Es un algoritmo de Deep Reinforcement Learning basado en políticas que extiende el menfoque de Deterministic POlicy Gradient usando redes neuronales profundas. Es un método actor-critic que aprende una política determinista.\n",
    "\n",
    "Características:\n",
    "- El actor aprende una política determinística que selecciona acciones directamente a partir de los estados, sin muestreo.\n",
    "- El crítico estima el valor Q de la política determinística aprendida por el actor.\n",
    "- Usa técnicas de estabilización como experiencia replay y target networks.\n",
    "\n",
    "Problemas en los que se puede usar:\n",
    "- Problemas de control continuo.\n",
    "- Tareas de navegación autónoma.\n",
    "- Manipulación de objetos."
   ]
  },
  {
   "cell_type": "markdown",
   "metadata": {},
   "source": [
    "**3. Trust Region Policy Optimization (TRPO)**\n",
    "\n",
    "Es un algoritmo de DRL basado en políticas. Está diseñado para garantizar actualizaciones de políticas mas estables y eficientes en el aprendizaje por una política óptima. TRPO ajusta la política gradualmente para evitar grandes cambios que puedan reducir el rendimiento, de manera que se asegure que cada actualización esté dentro de una región de confianza previamente definida. \n",
    "\n",
    "Características:\n",
    "\n",
    "- Restringe la magnitud de los cambios en la política usando una métrica llamada divergencia de Kullback-Leibler (KL), que mide cuán diferente es la nueva política respecto a la anterior.\n",
    "- Optimiza la política directamente, lo que lo hace adecuado para entornos de espacio continuo y discretos.\n",
    "- Es más estable que los métodos de gradiente de política tradicionales, pero computacionalmente más costoso.\n",
    "\n",
    "Problemas en los que se utiliza:\n",
    "\n",
    "- Robótica y sistemas físicos donde los cambios abruptos pueden ser perjudiciales.\n",
    "- Videojuegos complejos (como juegos de Atari) y simulaciones donde se necesita alta estabilidad en las actualizaciones de políticas.\n",
    "- Tareas de control continuo como navegación, control de drones o vehículos autónomos."
   ]
  },
  {
   "cell_type": "markdown",
   "metadata": {},
   "source": [
    "**4. Asynchronous Advantage Actor-Critic (A3C)**\n",
    "\n",
    "Es un algoritmo de Deep Reinforcement Learning que combina el enfoque actor-crítico con el aprendizaje asincrónico. A3C aprovecha múltiples agentes o hilos que interactúan con el entorno de manera independiente, aprendiendo en paralelo y actualizando la política global de forma asincrónica.\n",
    "\n",
    "Características:\n",
    "\n",
    "- Utiliza un actor que aprende la política (selección de acciones) y un crítico que estima el valor esperado (ventaja) de las acciones.\n",
    "- Los hilos ejecutan copias independientes del entorno, actualizando una política global compartida.\n",
    "- Calcula la ventaja (Advantage) para medir cuán buena fue una acción en comparación con lo esperado, mejorando la eficiencia del aprendizaje.\n",
    "- Asincronía permite una exploración más diversa, evitando quedarse atrapado en subóptimos locales.\n",
    "\n",
    "\n",
    "Problemas en los que se utiliza:\n",
    "\n",
    "- Problemas de aprendizaje en paralelo y alta dimensionalidad, como en juegos complejos (e.g., Atari, StarCraft).\n",
    "- Tareas de control continuo y ambientes físicos donde se necesita eficiencia computacional (robots, simulaciones físicas).\n",
    "- Es adecuado para problemas que requieren alta exploración y eficiencia, como entornos de simulación masiva o multi-agente."
   ]
  }
 ],
 "metadata": {
  "kernelspec": {
   "display_name": "ptActualizado",
   "language": "python",
   "name": "python3"
  },
  "language_info": {
   "codemirror_mode": {
    "name": "ipython",
    "version": 3
   },
   "file_extension": ".py",
   "mimetype": "text/x-python",
   "name": "python",
   "nbconvert_exporter": "python",
   "pygments_lexer": "ipython3",
   "version": "3.10.14"
  }
 },
 "nbformat": 4,
 "nbformat_minor": 2
}
